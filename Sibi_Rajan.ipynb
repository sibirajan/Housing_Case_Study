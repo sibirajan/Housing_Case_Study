{
 "cells": [
  {
   "cell_type": "code",
   "execution_count": 2,
   "id": "cddfaef3",
   "metadata": {},
   "outputs": [],
   "source": [
    "## UpGrad Lending Club Case Study\n",
    "### The company wants to understand the driving factors behind loan default, \n",
    "### i.e. the variables which are strong indicators of default.\n",
    "### The company can utilise this knowledge for its portfolio and risk assessment."
   ]
  },
  {
   "cell_type": "code",
   "execution_count": 3,
   "id": "97340b0c",
   "metadata": {},
   "outputs": [],
   "source": [
    "## Loading necessary Libraries\n",
    "import pandas as pd \n",
    "import numpy as np \n",
    "import matplotlib.pyplot as plt #to plot some parameters in seaborn\n",
    "import seaborn as sns\n",
    "import os\n",
    "import warnings\n",
    "warnings.filterwarnings('ignore')\n",
    "%matplotlib inline"
   ]
  },
  {
   "cell_type": "code",
   "execution_count": 4,
   "id": "18583799",
   "metadata": {},
   "outputs": [
    {
     "name": "stdout",
     "output_type": "stream",
     "text": [
      "/Users/sibiz\n"
     ]
    }
   ],
   "source": [
    "cwd = os.getcwd()\n",
    "print(cwd)"
   ]
  },
  {
   "cell_type": "code",
   "execution_count": 5,
   "id": "64bd9b0f",
   "metadata": {},
   "outputs": [],
   "source": [
    "## Importing Loan dataset, setting low_memory to false so that importing is smooth\n",
    "df_loan = pd.read_csv(\"loan.csv\" ,low_memory=False)"
   ]
  },
  {
   "cell_type": "code",
   "execution_count": 6,
   "id": "6ea0dc75",
   "metadata": {
    "scrolled": false
   },
   "outputs": [
    {
     "data": {
      "text/html": [
       "<div>\n",
       "<style scoped>\n",
       "    .dataframe tbody tr th:only-of-type {\n",
       "        vertical-align: middle;\n",
       "    }\n",
       "\n",
       "    .dataframe tbody tr th {\n",
       "        vertical-align: top;\n",
       "    }\n",
       "\n",
       "    .dataframe thead th {\n",
       "        text-align: right;\n",
       "    }\n",
       "</style>\n",
       "<table border=\"1\" class=\"dataframe\">\n",
       "  <thead>\n",
       "    <tr style=\"text-align: right;\">\n",
       "      <th></th>\n",
       "      <th>id</th>\n",
       "      <th>member_id</th>\n",
       "      <th>loan_amnt</th>\n",
       "      <th>funded_amnt</th>\n",
       "      <th>funded_amnt_inv</th>\n",
       "      <th>term</th>\n",
       "      <th>int_rate</th>\n",
       "      <th>installment</th>\n",
       "      <th>grade</th>\n",
       "      <th>sub_grade</th>\n",
       "      <th>...</th>\n",
       "      <th>num_tl_90g_dpd_24m</th>\n",
       "      <th>num_tl_op_past_12m</th>\n",
       "      <th>pct_tl_nvr_dlq</th>\n",
       "      <th>percent_bc_gt_75</th>\n",
       "      <th>pub_rec_bankruptcies</th>\n",
       "      <th>tax_liens</th>\n",
       "      <th>tot_hi_cred_lim</th>\n",
       "      <th>total_bal_ex_mort</th>\n",
       "      <th>total_bc_limit</th>\n",
       "      <th>total_il_high_credit_limit</th>\n",
       "    </tr>\n",
       "  </thead>\n",
       "  <tbody>\n",
       "    <tr>\n",
       "      <th>0</th>\n",
       "      <td>1077501</td>\n",
       "      <td>1296599</td>\n",
       "      <td>5000</td>\n",
       "      <td>5000</td>\n",
       "      <td>4975.0</td>\n",
       "      <td>36 months</td>\n",
       "      <td>10.65%</td>\n",
       "      <td>162.87</td>\n",
       "      <td>B</td>\n",
       "      <td>B2</td>\n",
       "      <td>...</td>\n",
       "      <td>NaN</td>\n",
       "      <td>NaN</td>\n",
       "      <td>NaN</td>\n",
       "      <td>NaN</td>\n",
       "      <td>0.0</td>\n",
       "      <td>0.0</td>\n",
       "      <td>NaN</td>\n",
       "      <td>NaN</td>\n",
       "      <td>NaN</td>\n",
       "      <td>NaN</td>\n",
       "    </tr>\n",
       "    <tr>\n",
       "      <th>1</th>\n",
       "      <td>1077430</td>\n",
       "      <td>1314167</td>\n",
       "      <td>2500</td>\n",
       "      <td>2500</td>\n",
       "      <td>2500.0</td>\n",
       "      <td>60 months</td>\n",
       "      <td>15.27%</td>\n",
       "      <td>59.83</td>\n",
       "      <td>C</td>\n",
       "      <td>C4</td>\n",
       "      <td>...</td>\n",
       "      <td>NaN</td>\n",
       "      <td>NaN</td>\n",
       "      <td>NaN</td>\n",
       "      <td>NaN</td>\n",
       "      <td>0.0</td>\n",
       "      <td>0.0</td>\n",
       "      <td>NaN</td>\n",
       "      <td>NaN</td>\n",
       "      <td>NaN</td>\n",
       "      <td>NaN</td>\n",
       "    </tr>\n",
       "    <tr>\n",
       "      <th>2</th>\n",
       "      <td>1077175</td>\n",
       "      <td>1313524</td>\n",
       "      <td>2400</td>\n",
       "      <td>2400</td>\n",
       "      <td>2400.0</td>\n",
       "      <td>36 months</td>\n",
       "      <td>15.96%</td>\n",
       "      <td>84.33</td>\n",
       "      <td>C</td>\n",
       "      <td>C5</td>\n",
       "      <td>...</td>\n",
       "      <td>NaN</td>\n",
       "      <td>NaN</td>\n",
       "      <td>NaN</td>\n",
       "      <td>NaN</td>\n",
       "      <td>0.0</td>\n",
       "      <td>0.0</td>\n",
       "      <td>NaN</td>\n",
       "      <td>NaN</td>\n",
       "      <td>NaN</td>\n",
       "      <td>NaN</td>\n",
       "    </tr>\n",
       "    <tr>\n",
       "      <th>3</th>\n",
       "      <td>1076863</td>\n",
       "      <td>1277178</td>\n",
       "      <td>10000</td>\n",
       "      <td>10000</td>\n",
       "      <td>10000.0</td>\n",
       "      <td>36 months</td>\n",
       "      <td>13.49%</td>\n",
       "      <td>339.31</td>\n",
       "      <td>C</td>\n",
       "      <td>C1</td>\n",
       "      <td>...</td>\n",
       "      <td>NaN</td>\n",
       "      <td>NaN</td>\n",
       "      <td>NaN</td>\n",
       "      <td>NaN</td>\n",
       "      <td>0.0</td>\n",
       "      <td>0.0</td>\n",
       "      <td>NaN</td>\n",
       "      <td>NaN</td>\n",
       "      <td>NaN</td>\n",
       "      <td>NaN</td>\n",
       "    </tr>\n",
       "    <tr>\n",
       "      <th>4</th>\n",
       "      <td>1075358</td>\n",
       "      <td>1311748</td>\n",
       "      <td>3000</td>\n",
       "      <td>3000</td>\n",
       "      <td>3000.0</td>\n",
       "      <td>60 months</td>\n",
       "      <td>12.69%</td>\n",
       "      <td>67.79</td>\n",
       "      <td>B</td>\n",
       "      <td>B5</td>\n",
       "      <td>...</td>\n",
       "      <td>NaN</td>\n",
       "      <td>NaN</td>\n",
       "      <td>NaN</td>\n",
       "      <td>NaN</td>\n",
       "      <td>0.0</td>\n",
       "      <td>0.0</td>\n",
       "      <td>NaN</td>\n",
       "      <td>NaN</td>\n",
       "      <td>NaN</td>\n",
       "      <td>NaN</td>\n",
       "    </tr>\n",
       "  </tbody>\n",
       "</table>\n",
       "<p>5 rows × 111 columns</p>\n",
       "</div>"
      ],
      "text/plain": [
       "        id  member_id  loan_amnt  funded_amnt  funded_amnt_inv        term  \\\n",
       "0  1077501    1296599       5000         5000           4975.0   36 months   \n",
       "1  1077430    1314167       2500         2500           2500.0   60 months   \n",
       "2  1077175    1313524       2400         2400           2400.0   36 months   \n",
       "3  1076863    1277178      10000        10000          10000.0   36 months   \n",
       "4  1075358    1311748       3000         3000           3000.0   60 months   \n",
       "\n",
       "  int_rate  installment grade sub_grade  ... num_tl_90g_dpd_24m  \\\n",
       "0   10.65%       162.87     B        B2  ...                NaN   \n",
       "1   15.27%        59.83     C        C4  ...                NaN   \n",
       "2   15.96%        84.33     C        C5  ...                NaN   \n",
       "3   13.49%       339.31     C        C1  ...                NaN   \n",
       "4   12.69%        67.79     B        B5  ...                NaN   \n",
       "\n",
       "  num_tl_op_past_12m pct_tl_nvr_dlq  percent_bc_gt_75 pub_rec_bankruptcies  \\\n",
       "0                NaN            NaN               NaN                  0.0   \n",
       "1                NaN            NaN               NaN                  0.0   \n",
       "2                NaN            NaN               NaN                  0.0   \n",
       "3                NaN            NaN               NaN                  0.0   \n",
       "4                NaN            NaN               NaN                  0.0   \n",
       "\n",
       "  tax_liens tot_hi_cred_lim total_bal_ex_mort total_bc_limit  \\\n",
       "0       0.0             NaN               NaN            NaN   \n",
       "1       0.0             NaN               NaN            NaN   \n",
       "2       0.0             NaN               NaN            NaN   \n",
       "3       0.0             NaN               NaN            NaN   \n",
       "4       0.0             NaN               NaN            NaN   \n",
       "\n",
       "  total_il_high_credit_limit  \n",
       "0                        NaN  \n",
       "1                        NaN  \n",
       "2                        NaN  \n",
       "3                        NaN  \n",
       "4                        NaN  \n",
       "\n",
       "[5 rows x 111 columns]"
      ]
     },
     "execution_count": 6,
     "metadata": {},
     "output_type": "execute_result"
    }
   ],
   "source": [
    "## Glimpse of the dataset uploaded\n",
    "df_loan.head()"
   ]
  },
  {
   "cell_type": "code",
   "execution_count": 7,
   "id": "0d1c8292",
   "metadata": {},
   "outputs": [],
   "source": [
    "#    ********************** Preprocessing  **********************                      "
   ]
  },
  {
   "cell_type": "code",
   "execution_count": 8,
   "id": "ed580e07",
   "metadata": {},
   "outputs": [
    {
     "name": "stdout",
     "output_type": "stream",
     "text": [
      "id                              0.0\n",
      "member_id                       0.0\n",
      "loan_amnt                       0.0\n",
      "funded_amnt                     0.0\n",
      "funded_amnt_inv                 0.0\n",
      "                              ...  \n",
      "tax_liens                       0.1\n",
      "tot_hi_cred_lim               100.0\n",
      "total_bal_ex_mort             100.0\n",
      "total_bc_limit                100.0\n",
      "total_il_high_credit_limit    100.0\n",
      "Length: 111, dtype: float64\n"
     ]
    }
   ],
   "source": [
    "## Identifying columns which are having missing values by printing percentage of missing values in each column\n",
    "\n",
    "missing_value = round(100*(df_loan.isnull().sum()/len(df_loan.id)), 2)\n",
    "print(missing_value)"
   ]
  },
  {
   "cell_type": "code",
   "execution_count": 9,
   "id": "968cd152",
   "metadata": {},
   "outputs": [
    {
     "data": {
      "text/plain": [
       "58"
      ]
     },
     "execution_count": 9,
     "metadata": {},
     "output_type": "execute_result"
    }
   ],
   "source": [
    "# Checking columns with more than 30% of missing values\n",
    "col_missing_value = list(missing_value[missing_value >= 30].index)\n",
    "len(col_missing_value)"
   ]
  },
  {
   "cell_type": "code",
   "execution_count": 10,
   "id": "9c6fabe9",
   "metadata": {},
   "outputs": [
    {
     "data": {
      "text/plain": [
       "(39717, 53)"
      ]
     },
     "execution_count": 10,
     "metadata": {},
     "output_type": "execute_result"
    }
   ],
   "source": [
    "# Dropping columns with more than 30% of missing values\n",
    "df_loan = df_loan.drop(col_missing_value,axis=1)\n",
    "df_loan.shape"
   ]
  },
  {
   "cell_type": "code",
   "execution_count": 11,
   "id": "ca04e7f5",
   "metadata": {},
   "outputs": [
    {
     "data": {
      "text/html": [
       "<div>\n",
       "<style scoped>\n",
       "    .dataframe tbody tr th:only-of-type {\n",
       "        vertical-align: middle;\n",
       "    }\n",
       "\n",
       "    .dataframe tbody tr th {\n",
       "        vertical-align: top;\n",
       "    }\n",
       "\n",
       "    .dataframe thead th {\n",
       "        text-align: right;\n",
       "    }\n",
       "</style>\n",
       "<table border=\"1\" class=\"dataframe\">\n",
       "  <thead>\n",
       "    <tr style=\"text-align: right;\">\n",
       "      <th></th>\n",
       "      <th>id</th>\n",
       "      <th>member_id</th>\n",
       "      <th>loan_amnt</th>\n",
       "      <th>funded_amnt</th>\n",
       "      <th>funded_amnt_inv</th>\n",
       "      <th>term</th>\n",
       "      <th>int_rate</th>\n",
       "      <th>installment</th>\n",
       "      <th>grade</th>\n",
       "      <th>sub_grade</th>\n",
       "      <th>...</th>\n",
       "      <th>last_pymnt_amnt</th>\n",
       "      <th>last_credit_pull_d</th>\n",
       "      <th>collections_12_mths_ex_med</th>\n",
       "      <th>policy_code</th>\n",
       "      <th>application_type</th>\n",
       "      <th>acc_now_delinq</th>\n",
       "      <th>chargeoff_within_12_mths</th>\n",
       "      <th>delinq_amnt</th>\n",
       "      <th>pub_rec_bankruptcies</th>\n",
       "      <th>tax_liens</th>\n",
       "    </tr>\n",
       "  </thead>\n",
       "  <tbody>\n",
       "    <tr>\n",
       "      <th>0</th>\n",
       "      <td>1077501</td>\n",
       "      <td>1296599</td>\n",
       "      <td>5000</td>\n",
       "      <td>5000</td>\n",
       "      <td>4975.0</td>\n",
       "      <td>36 months</td>\n",
       "      <td>10.65%</td>\n",
       "      <td>162.87</td>\n",
       "      <td>B</td>\n",
       "      <td>B2</td>\n",
       "      <td>...</td>\n",
       "      <td>171.62</td>\n",
       "      <td>May-16</td>\n",
       "      <td>0.0</td>\n",
       "      <td>1</td>\n",
       "      <td>INDIVIDUAL</td>\n",
       "      <td>0</td>\n",
       "      <td>0.0</td>\n",
       "      <td>0</td>\n",
       "      <td>0.0</td>\n",
       "      <td>0.0</td>\n",
       "    </tr>\n",
       "    <tr>\n",
       "      <th>1</th>\n",
       "      <td>1077430</td>\n",
       "      <td>1314167</td>\n",
       "      <td>2500</td>\n",
       "      <td>2500</td>\n",
       "      <td>2500.0</td>\n",
       "      <td>60 months</td>\n",
       "      <td>15.27%</td>\n",
       "      <td>59.83</td>\n",
       "      <td>C</td>\n",
       "      <td>C4</td>\n",
       "      <td>...</td>\n",
       "      <td>119.66</td>\n",
       "      <td>Sep-13</td>\n",
       "      <td>0.0</td>\n",
       "      <td>1</td>\n",
       "      <td>INDIVIDUAL</td>\n",
       "      <td>0</td>\n",
       "      <td>0.0</td>\n",
       "      <td>0</td>\n",
       "      <td>0.0</td>\n",
       "      <td>0.0</td>\n",
       "    </tr>\n",
       "    <tr>\n",
       "      <th>2</th>\n",
       "      <td>1077175</td>\n",
       "      <td>1313524</td>\n",
       "      <td>2400</td>\n",
       "      <td>2400</td>\n",
       "      <td>2400.0</td>\n",
       "      <td>36 months</td>\n",
       "      <td>15.96%</td>\n",
       "      <td>84.33</td>\n",
       "      <td>C</td>\n",
       "      <td>C5</td>\n",
       "      <td>...</td>\n",
       "      <td>649.91</td>\n",
       "      <td>May-16</td>\n",
       "      <td>0.0</td>\n",
       "      <td>1</td>\n",
       "      <td>INDIVIDUAL</td>\n",
       "      <td>0</td>\n",
       "      <td>0.0</td>\n",
       "      <td>0</td>\n",
       "      <td>0.0</td>\n",
       "      <td>0.0</td>\n",
       "    </tr>\n",
       "    <tr>\n",
       "      <th>3</th>\n",
       "      <td>1076863</td>\n",
       "      <td>1277178</td>\n",
       "      <td>10000</td>\n",
       "      <td>10000</td>\n",
       "      <td>10000.0</td>\n",
       "      <td>36 months</td>\n",
       "      <td>13.49%</td>\n",
       "      <td>339.31</td>\n",
       "      <td>C</td>\n",
       "      <td>C1</td>\n",
       "      <td>...</td>\n",
       "      <td>357.48</td>\n",
       "      <td>Apr-16</td>\n",
       "      <td>0.0</td>\n",
       "      <td>1</td>\n",
       "      <td>INDIVIDUAL</td>\n",
       "      <td>0</td>\n",
       "      <td>0.0</td>\n",
       "      <td>0</td>\n",
       "      <td>0.0</td>\n",
       "      <td>0.0</td>\n",
       "    </tr>\n",
       "    <tr>\n",
       "      <th>4</th>\n",
       "      <td>1075358</td>\n",
       "      <td>1311748</td>\n",
       "      <td>3000</td>\n",
       "      <td>3000</td>\n",
       "      <td>3000.0</td>\n",
       "      <td>60 months</td>\n",
       "      <td>12.69%</td>\n",
       "      <td>67.79</td>\n",
       "      <td>B</td>\n",
       "      <td>B5</td>\n",
       "      <td>...</td>\n",
       "      <td>67.79</td>\n",
       "      <td>May-16</td>\n",
       "      <td>0.0</td>\n",
       "      <td>1</td>\n",
       "      <td>INDIVIDUAL</td>\n",
       "      <td>0</td>\n",
       "      <td>0.0</td>\n",
       "      <td>0</td>\n",
       "      <td>0.0</td>\n",
       "      <td>0.0</td>\n",
       "    </tr>\n",
       "  </tbody>\n",
       "</table>\n",
       "<p>5 rows × 53 columns</p>\n",
       "</div>"
      ],
      "text/plain": [
       "        id  member_id  loan_amnt  funded_amnt  funded_amnt_inv        term  \\\n",
       "0  1077501    1296599       5000         5000           4975.0   36 months   \n",
       "1  1077430    1314167       2500         2500           2500.0   60 months   \n",
       "2  1077175    1313524       2400         2400           2400.0   36 months   \n",
       "3  1076863    1277178      10000        10000          10000.0   36 months   \n",
       "4  1075358    1311748       3000         3000           3000.0   60 months   \n",
       "\n",
       "  int_rate  installment grade sub_grade  ... last_pymnt_amnt  \\\n",
       "0   10.65%       162.87     B        B2  ...          171.62   \n",
       "1   15.27%        59.83     C        C4  ...          119.66   \n",
       "2   15.96%        84.33     C        C5  ...          649.91   \n",
       "3   13.49%       339.31     C        C1  ...          357.48   \n",
       "4   12.69%        67.79     B        B5  ...           67.79   \n",
       "\n",
       "  last_credit_pull_d collections_12_mths_ex_med  policy_code application_type  \\\n",
       "0             May-16                        0.0            1       INDIVIDUAL   \n",
       "1             Sep-13                        0.0            1       INDIVIDUAL   \n",
       "2             May-16                        0.0            1       INDIVIDUAL   \n",
       "3             Apr-16                        0.0            1       INDIVIDUAL   \n",
       "4             May-16                        0.0            1       INDIVIDUAL   \n",
       "\n",
       "  acc_now_delinq chargeoff_within_12_mths delinq_amnt pub_rec_bankruptcies  \\\n",
       "0              0                      0.0           0                  0.0   \n",
       "1              0                      0.0           0                  0.0   \n",
       "2              0                      0.0           0                  0.0   \n",
       "3              0                      0.0           0                  0.0   \n",
       "4              0                      0.0           0                  0.0   \n",
       "\n",
       "  tax_liens  \n",
       "0       0.0  \n",
       "1       0.0  \n",
       "2       0.0  \n",
       "3       0.0  \n",
       "4       0.0  \n",
       "\n",
       "[5 rows x 53 columns]"
      ]
     },
     "execution_count": 11,
     "metadata": {},
     "output_type": "execute_result"
    }
   ],
   "source": [
    "## Looking at the dataset and also looking at the data dictionary\n",
    "df_loan.head()"
   ]
  },
  {
   "cell_type": "code",
   "execution_count": 12,
   "id": "a47a3ba3",
   "metadata": {},
   "outputs": [
    {
     "data": {
      "text/plain": [
       "tax_liens                         1\n",
       "delinq_amnt                       1\n",
       "chargeoff_within_12_mths          1\n",
       "acc_now_delinq                    1\n",
       "application_type                  1\n",
       "policy_code                       1\n",
       "collections_12_mths_ex_med        1\n",
       "initial_list_status               1\n",
       "pymnt_plan                        1\n",
       "term                              2\n",
       "pub_rec_bankruptcies              3\n",
       "verification_status               3\n",
       "loan_status                       3\n",
       "pub_rec                           5\n",
       "home_ownership                    5\n",
       "grade                             7\n",
       "inq_last_6mths                    9\n",
       "delinq_2yrs                      11\n",
       "emp_length                       11\n",
       "purpose                          14\n",
       "sub_grade                        35\n",
       "open_acc                         40\n",
       "addr_state                       50\n",
       "issue_d                          55\n",
       "total_acc                        82\n",
       "last_pymnt_d                    101\n",
       "last_credit_pull_d              106\n",
       "int_rate                        371\n",
       "earliest_cr_line                526\n",
       "zip_code                        823\n",
       "loan_amnt                       885\n",
       "funded_amnt                    1041\n",
       "revol_util                     1089\n",
       "out_prncp                      1137\n",
       "out_prncp_inv                  1138\n",
       "total_rec_late_fee             1356\n",
       "collection_recovery_fee        2616\n",
       "dti                            2868\n",
       "recoveries                     4040\n",
       "annual_inc                     5318\n",
       "total_rec_prncp                7976\n",
       "funded_amnt_inv                8205\n",
       "installment                   15383\n",
       "title                         19615\n",
       "revol_bal                     21711\n",
       "emp_title                     28820\n",
       "last_pymnt_amnt               34930\n",
       "total_rec_int                 35148\n",
       "total_pymnt_inv               37518\n",
       "total_pymnt                   37850\n",
       "url                           39717\n",
       "member_id                     39717\n",
       "id                            39717\n",
       "dtype: int64"
      ]
     },
     "execution_count": 12,
     "metadata": {},
     "output_type": "execute_result"
    }
   ],
   "source": [
    "df_loan.nunique(axis=0).sort_values()"
   ]
  },
  {
   "cell_type": "code",
   "execution_count": 13,
   "id": "bab68485",
   "metadata": {},
   "outputs": [
    {
     "data": {
      "text/plain": [
       "(39717, 44)"
      ]
     },
     "execution_count": 13,
     "metadata": {},
     "output_type": "execute_result"
    }
   ],
   "source": [
    "## Deleting columns (tax_liens, delinq_amnt, chargeoff_within_12_mths, acc_now_delinq, application_type, policy_code)\n",
    "## collections_12_mths_ex_med, initial_list_status, pymnt_plan) which just have one value for all the rows as these may not help in any analysis\n",
    "\n",
    "df_loan_nodup = df_loan.drop(['tax_liens', 'delinq_amnt', 'chargeoff_within_12_mths', \n",
    "                  'acc_now_delinq', 'application_type', 'policy_code',\n",
    "                 'collections_12_mths_ex_med', 'initial_list_status', 'pymnt_plan'], axis=1)\n",
    "\n",
    "df_loan_nodup.shape"
   ]
  },
  {
   "cell_type": "code",
   "execution_count": 14,
   "id": "9eedef7f",
   "metadata": {},
   "outputs": [
    {
     "data": {
      "text/plain": [
       "(39717, 24)"
      ]
     },
     "execution_count": 14,
     "metadata": {},
     "output_type": "execute_result"
    }
   ],
   "source": [
    "## Dropping columns which are related to customer's repayment behavior as the objective of the analysis to \n",
    "## identify before loan disbursement if if a person is likely to default, which may be used for taking actions such \n",
    "## as denying the loan, reducing the amount of loan, lending (to risky applicants) at a higher interest rate, etc\n",
    "\n",
    "df_loan_nodup = df_loan_nodup.drop(['delinq_2yrs', 'earliest_cr_line',\n",
    "       'inq_last_6mths', 'open_acc', 'pub_rec', 'revol_bal', 'revol_util',\n",
    "       'total_acc', 'out_prncp', 'out_prncp_inv','total_pymnt', \n",
    "        'total_pymnt_inv', 'total_rec_prncp', 'total_rec_int',\n",
    "       'total_rec_late_fee', 'recoveries', 'collection_recovery_fee',\n",
    "       'last_pymnt_d', 'last_pymnt_amnt', 'last_credit_pull_d'], axis=1)\n",
    "\n",
    "df_loan_nodup.shape"
   ]
  },
  {
   "cell_type": "code",
   "execution_count": 15,
   "id": "f7648fab",
   "metadata": {},
   "outputs": [
    {
     "name": "stdout",
     "output_type": "stream",
     "text": [
      "0         5000\n",
      "1         2500\n",
      "2         2400\n",
      "3        10000\n",
      "4         3000\n",
      "         ...  \n",
      "39712     2500\n",
      "39713     8500\n",
      "39714     5000\n",
      "39715     5000\n",
      "39716     7500\n",
      "Name: funded_amnt, Length: 39717, dtype: int64 0         4975.0\n",
      "1         2500.0\n",
      "2         2400.0\n",
      "3        10000.0\n",
      "4         3000.0\n",
      "          ...   \n",
      "39712     1075.0\n",
      "39713      875.0\n",
      "39714     1325.0\n",
      "39715      650.0\n",
      "39716      800.0\n",
      "Name: funded_amnt_inv, Length: 39717, dtype: float64\n"
     ]
    },
    {
     "data": {
      "text/plain": [
       "(39717, 22)"
      ]
     },
     "execution_count": 15,
     "metadata": {},
     "output_type": "execute_result"
    }
   ],
   "source": [
    "## Removing potential redundant columns i.e. columns containing same information\n",
    "\n",
    "### 1. Amount related duplicate columns like loan_amnt, funded_amnt, funded_amnt_inv will not provide customer traits\n",
    "\n",
    "print (df_loan_nodup.funded_amnt, df_loan_nodup.funded_amnt_inv)\n",
    "\n",
    "df_loan_nodup.drop(['funded_amnt', 'funded_amnt_inv'], axis = 1, inplace= True)\n",
    "\n",
    "df_loan_nodup.shape"
   ]
  },
  {
   "cell_type": "code",
   "execution_count": 16,
   "id": "5d3bf614",
   "metadata": {},
   "outputs": [
    {
     "data": {
      "text/plain": [
       "(39717, 19)"
      ]
     },
     "execution_count": 16,
     "metadata": {},
     "output_type": "execute_result"
    }
   ],
   "source": [
    "## Removing potential non helpful columns id, member_id, url are unique identifiers hence dont seem to be adding any value\n",
    "\n",
    "df_loan_nodup.id.value_counts().head(10)\n",
    "df_loan_nodup.member_id.value_counts().head(10)\n",
    "df_loan_nodup.url.value_counts().head(10)\n",
    "\n",
    "df_loan_nodup = df_loan_nodup.drop(['id', 'member_id', 'url'], axis = 1)\n",
    "\n",
    "df_loan_nodup.shape\n"
   ]
  },
  {
   "cell_type": "code",
   "execution_count": 17,
   "id": "b445c326",
   "metadata": {},
   "outputs": [
    {
     "name": "stdout",
     "output_type": "stream",
     "text": [
      "<class 'pandas.core.frame.DataFrame'>\n",
      "RangeIndex: 39717 entries, 0 to 39716\n",
      "Data columns (total 19 columns):\n",
      " #   Column                Non-Null Count  Dtype  \n",
      "---  ------                --------------  -----  \n",
      " 0   loan_amnt             39717 non-null  int64  \n",
      " 1   term                  39717 non-null  object \n",
      " 2   int_rate              39717 non-null  object \n",
      " 3   installment           39717 non-null  float64\n",
      " 4   grade                 39717 non-null  object \n",
      " 5   sub_grade             39717 non-null  object \n",
      " 6   emp_title             37258 non-null  object \n",
      " 7   emp_length            38642 non-null  object \n",
      " 8   home_ownership        39717 non-null  object \n",
      " 9   annual_inc            39717 non-null  float64\n",
      " 10  verification_status   39717 non-null  object \n",
      " 11  issue_d               39717 non-null  object \n",
      " 12  loan_status           39717 non-null  object \n",
      " 13  purpose               39717 non-null  object \n",
      " 14  title                 39706 non-null  object \n",
      " 15  zip_code              39717 non-null  object \n",
      " 16  addr_state            39717 non-null  object \n",
      " 17  dti                   39717 non-null  float64\n",
      " 18  pub_rec_bankruptcies  39020 non-null  float64\n",
      "dtypes: float64(4), int64(1), object(14)\n",
      "memory usage: 5.8+ MB\n"
     ]
    }
   ],
   "source": [
    "df_loan_nodup.info()"
   ]
  },
  {
   "cell_type": "code",
   "execution_count": 18,
   "id": "2f2e9c71",
   "metadata": {},
   "outputs": [
    {
     "data": {
      "text/plain": [
       "Fully Paid     32950\n",
       "Charged Off     5627\n",
       "Current         1140\n",
       "Name: loan_status, dtype: int64"
      ]
     },
     "execution_count": 18,
     "metadata": {},
     "output_type": "execute_result"
    }
   ],
   "source": [
    "## Since we will not know the outcome of the current loans its better to drop these rows\n",
    "\n",
    "df_loan_nodup['loan_status'].value_counts()"
   ]
  },
  {
   "cell_type": "code",
   "execution_count": 19,
   "id": "13d9e912",
   "metadata": {},
   "outputs": [
    {
     "data": {
      "text/plain": [
       "(38577, 19)"
      ]
     },
     "execution_count": 19,
     "metadata": {},
     "output_type": "execute_result"
    }
   ],
   "source": [
    "loan = df_loan_nodup[df_loan_nodup['loan_status'] != 'Current']\n",
    "loan.shape"
   ]
  },
  {
   "cell_type": "code",
   "execution_count": 20,
   "id": "a88ee28b",
   "metadata": {},
   "outputs": [
    {
     "data": {
      "text/plain": [
       "(35473, 19)"
      ]
     },
     "execution_count": 20,
     "metadata": {},
     "output_type": "execute_result"
    }
   ],
   "source": [
    "##  There are some NULL values present, so lets remove the rows with NULL values from the above columns\n",
    "\n",
    "loan.dropna(subset=['emp_title','emp_length','title', 'pub_rec_bankruptcies'], inplace=True)\n",
    "loan.shape\n"
   ]
  },
  {
   "cell_type": "code",
   "execution_count": 21,
   "id": "ee1f4132",
   "metadata": {},
   "outputs": [
    {
     "data": {
      "text/html": [
       "<div>\n",
       "<style scoped>\n",
       "    .dataframe tbody tr th:only-of-type {\n",
       "        vertical-align: middle;\n",
       "    }\n",
       "\n",
       "    .dataframe tbody tr th {\n",
       "        vertical-align: top;\n",
       "    }\n",
       "\n",
       "    .dataframe thead th {\n",
       "        text-align: right;\n",
       "    }\n",
       "</style>\n",
       "<table border=\"1\" class=\"dataframe\">\n",
       "  <thead>\n",
       "    <tr style=\"text-align: right;\">\n",
       "      <th></th>\n",
       "      <th>loan_amnt</th>\n",
       "      <th>term</th>\n",
       "      <th>int_rate</th>\n",
       "      <th>installment</th>\n",
       "      <th>grade</th>\n",
       "      <th>sub_grade</th>\n",
       "      <th>emp_title</th>\n",
       "      <th>emp_length</th>\n",
       "      <th>home_ownership</th>\n",
       "      <th>annual_inc</th>\n",
       "      <th>verification_status</th>\n",
       "      <th>issue_d</th>\n",
       "      <th>loan_status</th>\n",
       "      <th>purpose</th>\n",
       "      <th>title</th>\n",
       "      <th>zip_code</th>\n",
       "      <th>addr_state</th>\n",
       "      <th>dti</th>\n",
       "      <th>pub_rec_bankruptcies</th>\n",
       "    </tr>\n",
       "  </thead>\n",
       "  <tbody>\n",
       "    <tr>\n",
       "      <th>1</th>\n",
       "      <td>2500</td>\n",
       "      <td>60 months</td>\n",
       "      <td>15.27%</td>\n",
       "      <td>59.83</td>\n",
       "      <td>C</td>\n",
       "      <td>C4</td>\n",
       "      <td>Ryder</td>\n",
       "      <td>&lt; 1 year</td>\n",
       "      <td>RENT</td>\n",
       "      <td>30000.0</td>\n",
       "      <td>Source Verified</td>\n",
       "      <td>Dec-11</td>\n",
       "      <td>Charged Off</td>\n",
       "      <td>car</td>\n",
       "      <td>bike</td>\n",
       "      <td>309xx</td>\n",
       "      <td>GA</td>\n",
       "      <td>1.00</td>\n",
       "      <td>0.0</td>\n",
       "    </tr>\n",
       "    <tr>\n",
       "      <th>3</th>\n",
       "      <td>10000</td>\n",
       "      <td>36 months</td>\n",
       "      <td>13.49%</td>\n",
       "      <td>339.31</td>\n",
       "      <td>C</td>\n",
       "      <td>C1</td>\n",
       "      <td>AIR RESOURCES BOARD</td>\n",
       "      <td>10+ years</td>\n",
       "      <td>RENT</td>\n",
       "      <td>49200.0</td>\n",
       "      <td>Source Verified</td>\n",
       "      <td>Dec-11</td>\n",
       "      <td>Fully Paid</td>\n",
       "      <td>other</td>\n",
       "      <td>personel</td>\n",
       "      <td>917xx</td>\n",
       "      <td>CA</td>\n",
       "      <td>20.00</td>\n",
       "      <td>0.0</td>\n",
       "    </tr>\n",
       "    <tr>\n",
       "      <th>5</th>\n",
       "      <td>5000</td>\n",
       "      <td>36 months</td>\n",
       "      <td>7.90%</td>\n",
       "      <td>156.46</td>\n",
       "      <td>A</td>\n",
       "      <td>A4</td>\n",
       "      <td>Veolia Transportaton</td>\n",
       "      <td>3 years</td>\n",
       "      <td>RENT</td>\n",
       "      <td>36000.0</td>\n",
       "      <td>Source Verified</td>\n",
       "      <td>Dec-11</td>\n",
       "      <td>Fully Paid</td>\n",
       "      <td>wedding</td>\n",
       "      <td>My wedding loan I promise to pay back</td>\n",
       "      <td>852xx</td>\n",
       "      <td>AZ</td>\n",
       "      <td>11.20</td>\n",
       "      <td>0.0</td>\n",
       "    </tr>\n",
       "    <tr>\n",
       "      <th>6</th>\n",
       "      <td>7000</td>\n",
       "      <td>60 months</td>\n",
       "      <td>15.96%</td>\n",
       "      <td>170.08</td>\n",
       "      <td>C</td>\n",
       "      <td>C5</td>\n",
       "      <td>Southern Star Photography</td>\n",
       "      <td>8 years</td>\n",
       "      <td>RENT</td>\n",
       "      <td>47004.0</td>\n",
       "      <td>Not Verified</td>\n",
       "      <td>Dec-11</td>\n",
       "      <td>Fully Paid</td>\n",
       "      <td>debt_consolidation</td>\n",
       "      <td>Loan</td>\n",
       "      <td>280xx</td>\n",
       "      <td>NC</td>\n",
       "      <td>23.51</td>\n",
       "      <td>0.0</td>\n",
       "    </tr>\n",
       "    <tr>\n",
       "      <th>7</th>\n",
       "      <td>3000</td>\n",
       "      <td>36 months</td>\n",
       "      <td>18.64%</td>\n",
       "      <td>109.43</td>\n",
       "      <td>E</td>\n",
       "      <td>E1</td>\n",
       "      <td>MKC Accounting</td>\n",
       "      <td>9 years</td>\n",
       "      <td>RENT</td>\n",
       "      <td>48000.0</td>\n",
       "      <td>Source Verified</td>\n",
       "      <td>Dec-11</td>\n",
       "      <td>Fully Paid</td>\n",
       "      <td>car</td>\n",
       "      <td>Car Downpayment</td>\n",
       "      <td>900xx</td>\n",
       "      <td>CA</td>\n",
       "      <td>5.35</td>\n",
       "      <td>0.0</td>\n",
       "    </tr>\n",
       "    <tr>\n",
       "      <th>9</th>\n",
       "      <td>5375</td>\n",
       "      <td>60 months</td>\n",
       "      <td>12.69%</td>\n",
       "      <td>121.45</td>\n",
       "      <td>B</td>\n",
       "      <td>B5</td>\n",
       "      <td>Starbucks</td>\n",
       "      <td>&lt; 1 year</td>\n",
       "      <td>RENT</td>\n",
       "      <td>15000.0</td>\n",
       "      <td>Verified</td>\n",
       "      <td>Dec-11</td>\n",
       "      <td>Charged Off</td>\n",
       "      <td>other</td>\n",
       "      <td>Building my credit history.</td>\n",
       "      <td>774xx</td>\n",
       "      <td>TX</td>\n",
       "      <td>18.08</td>\n",
       "      <td>0.0</td>\n",
       "    </tr>\n",
       "    <tr>\n",
       "      <th>10</th>\n",
       "      <td>6500</td>\n",
       "      <td>60 months</td>\n",
       "      <td>14.65%</td>\n",
       "      <td>153.45</td>\n",
       "      <td>C</td>\n",
       "      <td>C3</td>\n",
       "      <td>Southwest Rural metro</td>\n",
       "      <td>5 years</td>\n",
       "      <td>OWN</td>\n",
       "      <td>72000.0</td>\n",
       "      <td>Not Verified</td>\n",
       "      <td>Dec-11</td>\n",
       "      <td>Fully Paid</td>\n",
       "      <td>debt_consolidation</td>\n",
       "      <td>High intrest Consolidation</td>\n",
       "      <td>853xx</td>\n",
       "      <td>AZ</td>\n",
       "      <td>16.12</td>\n",
       "      <td>0.0</td>\n",
       "    </tr>\n",
       "    <tr>\n",
       "      <th>11</th>\n",
       "      <td>12000</td>\n",
       "      <td>36 months</td>\n",
       "      <td>12.69%</td>\n",
       "      <td>402.54</td>\n",
       "      <td>B</td>\n",
       "      <td>B5</td>\n",
       "      <td>UCLA</td>\n",
       "      <td>10+ years</td>\n",
       "      <td>OWN</td>\n",
       "      <td>75000.0</td>\n",
       "      <td>Source Verified</td>\n",
       "      <td>Dec-11</td>\n",
       "      <td>Fully Paid</td>\n",
       "      <td>debt_consolidation</td>\n",
       "      <td>Consolidation</td>\n",
       "      <td>913xx</td>\n",
       "      <td>CA</td>\n",
       "      <td>10.78</td>\n",
       "      <td>0.0</td>\n",
       "    </tr>\n",
       "    <tr>\n",
       "      <th>12</th>\n",
       "      <td>9000</td>\n",
       "      <td>36 months</td>\n",
       "      <td>13.49%</td>\n",
       "      <td>305.38</td>\n",
       "      <td>C</td>\n",
       "      <td>C1</td>\n",
       "      <td>Va. Dept of Conservation/Recreation</td>\n",
       "      <td>&lt; 1 year</td>\n",
       "      <td>RENT</td>\n",
       "      <td>30000.0</td>\n",
       "      <td>Source Verified</td>\n",
       "      <td>Dec-11</td>\n",
       "      <td>Charged Off</td>\n",
       "      <td>debt_consolidation</td>\n",
       "      <td>freedom</td>\n",
       "      <td>245xx</td>\n",
       "      <td>VA</td>\n",
       "      <td>10.08</td>\n",
       "      <td>0.0</td>\n",
       "    </tr>\n",
       "    <tr>\n",
       "      <th>13</th>\n",
       "      <td>3000</td>\n",
       "      <td>36 months</td>\n",
       "      <td>9.91%</td>\n",
       "      <td>96.68</td>\n",
       "      <td>B</td>\n",
       "      <td>B1</td>\n",
       "      <td>Target</td>\n",
       "      <td>3 years</td>\n",
       "      <td>RENT</td>\n",
       "      <td>15000.0</td>\n",
       "      <td>Source Verified</td>\n",
       "      <td>Dec-11</td>\n",
       "      <td>Fully Paid</td>\n",
       "      <td>credit_card</td>\n",
       "      <td>citicard fund</td>\n",
       "      <td>606xx</td>\n",
       "      <td>IL</td>\n",
       "      <td>12.56</td>\n",
       "      <td>0.0</td>\n",
       "    </tr>\n",
       "  </tbody>\n",
       "</table>\n",
       "</div>"
      ],
      "text/plain": [
       "    loan_amnt        term int_rate  installment grade sub_grade  \\\n",
       "1        2500   60 months   15.27%        59.83     C        C4   \n",
       "3       10000   36 months   13.49%       339.31     C        C1   \n",
       "5        5000   36 months    7.90%       156.46     A        A4   \n",
       "6        7000   60 months   15.96%       170.08     C        C5   \n",
       "7        3000   36 months   18.64%       109.43     E        E1   \n",
       "9        5375   60 months   12.69%       121.45     B        B5   \n",
       "10       6500   60 months   14.65%       153.45     C        C3   \n",
       "11      12000   36 months   12.69%       402.54     B        B5   \n",
       "12       9000   36 months   13.49%       305.38     C        C1   \n",
       "13       3000   36 months    9.91%        96.68     B        B1   \n",
       "\n",
       "                              emp_title emp_length home_ownership  annual_inc  \\\n",
       "1                                 Ryder   < 1 year           RENT     30000.0   \n",
       "3                   AIR RESOURCES BOARD  10+ years           RENT     49200.0   \n",
       "5                  Veolia Transportaton    3 years           RENT     36000.0   \n",
       "6             Southern Star Photography    8 years           RENT     47004.0   \n",
       "7                       MKC Accounting     9 years           RENT     48000.0   \n",
       "9                             Starbucks   < 1 year           RENT     15000.0   \n",
       "10                Southwest Rural metro    5 years            OWN     72000.0   \n",
       "11                                 UCLA  10+ years            OWN     75000.0   \n",
       "12  Va. Dept of Conservation/Recreation   < 1 year           RENT     30000.0   \n",
       "13                               Target    3 years           RENT     15000.0   \n",
       "\n",
       "   verification_status issue_d  loan_status             purpose  \\\n",
       "1      Source Verified  Dec-11  Charged Off                 car   \n",
       "3      Source Verified  Dec-11   Fully Paid               other   \n",
       "5      Source Verified  Dec-11   Fully Paid             wedding   \n",
       "6         Not Verified  Dec-11   Fully Paid  debt_consolidation   \n",
       "7      Source Verified  Dec-11   Fully Paid                 car   \n",
       "9             Verified  Dec-11  Charged Off               other   \n",
       "10        Not Verified  Dec-11   Fully Paid  debt_consolidation   \n",
       "11     Source Verified  Dec-11   Fully Paid  debt_consolidation   \n",
       "12     Source Verified  Dec-11  Charged Off  debt_consolidation   \n",
       "13     Source Verified  Dec-11   Fully Paid         credit_card   \n",
       "\n",
       "                                    title zip_code addr_state    dti  \\\n",
       "1                                    bike    309xx         GA   1.00   \n",
       "3                                personel    917xx         CA  20.00   \n",
       "5   My wedding loan I promise to pay back    852xx         AZ  11.20   \n",
       "6                                    Loan    280xx         NC  23.51   \n",
       "7                         Car Downpayment    900xx         CA   5.35   \n",
       "9             Building my credit history.    774xx         TX  18.08   \n",
       "10             High intrest Consolidation    853xx         AZ  16.12   \n",
       "11                          Consolidation    913xx         CA  10.78   \n",
       "12                                freedom    245xx         VA  10.08   \n",
       "13                          citicard fund    606xx         IL  12.56   \n",
       "\n",
       "    pub_rec_bankruptcies  \n",
       "1                    0.0  \n",
       "3                    0.0  \n",
       "5                    0.0  \n",
       "6                    0.0  \n",
       "7                    0.0  \n",
       "9                    0.0  \n",
       "10                   0.0  \n",
       "11                   0.0  \n",
       "12                   0.0  \n",
       "13                   0.0  "
      ]
     },
     "execution_count": 21,
     "metadata": {},
     "output_type": "execute_result"
    }
   ],
   "source": [
    "###Checking the data to identify the massaging required in order to aid data manipulation\n",
    "\n",
    "loan.head(10)"
   ]
  },
  {
   "cell_type": "code",
   "execution_count": 22,
   "id": "cffb2a02",
   "metadata": {},
   "outputs": [
    {
     "data": {
      "text/plain": [
       " 36     26465\n",
       " 60      9008\n",
       "Name: term, dtype: int64"
      ]
     },
     "execution_count": 22,
     "metadata": {},
     "output_type": "execute_result"
    }
   ],
   "source": [
    "### Cleaning column 'term' by removing months from the values\n",
    "\n",
    "loan['term'] = loan['term'].str.rstrip('months')\n",
    "loan['term'].value_counts()"
   ]
  },
  {
   "cell_type": "code",
   "execution_count": 23,
   "id": "970fe274",
   "metadata": {
    "scrolled": true
   },
   "outputs": [
    {
     "data": {
      "text/plain": [
       "10.99    862\n",
       "11.49    739\n",
       "7.51     732\n",
       "13.49    711\n",
       "7.88     674\n",
       "        ... \n",
       "18.72      1\n",
       "13.30      1\n",
       "11.22      1\n",
       "16.20      1\n",
       "9.83       1\n",
       "Name: int_rate, Length: 334, dtype: int64"
      ]
     },
     "execution_count": 23,
     "metadata": {},
     "output_type": "execute_result"
    }
   ],
   "source": [
    "### Cleaning column 'int_rate' by removing % from the values\n",
    "loan['int_rate'] = loan['int_rate'].str.rstrip('%')\n",
    "loan['int_rate'].value_counts()\n"
   ]
  },
  {
   "cell_type": "code",
   "execution_count": 24,
   "id": "886042b7",
   "metadata": {},
   "outputs": [],
   "source": [
    "# let's also observe the distribution of loans across years\n",
    "# first lets convert the year column into datetime and then extract year and month from it\n",
    "from datetime import datetime\n",
    "loan['issue_d'] = loan['issue_d'].apply(lambda x: datetime.strptime(x, '%b-%y'))\n"
   ]
  },
  {
   "cell_type": "code",
   "execution_count": 25,
   "id": "4c6e42f7",
   "metadata": {},
   "outputs": [],
   "source": [
    "# extracting month and year from issue_date\n",
    "loan['month'] = loan['issue_d'].apply(lambda x: x.month)\n",
    "loan['year'] = loan['issue_d'].apply(lambda x: x.year)"
   ]
  },
  {
   "cell_type": "code",
   "execution_count": 26,
   "id": "3c1c7bb8",
   "metadata": {},
   "outputs": [
    {
     "data": {
      "text/plain": [
       "year\n",
       "2007        6\n",
       "2008     1061\n",
       "2009     4447\n",
       "2010    10828\n",
       "2011    19131\n",
       "Name: year, dtype: int64"
      ]
     },
     "execution_count": 26,
     "metadata": {},
     "output_type": "execute_result"
    }
   ],
   "source": [
    "# Looking at number of loans granted across years\n",
    "loan.groupby('year').year.count()"
   ]
  },
  {
   "cell_type": "code",
   "execution_count": 27,
   "id": "6e1e1940",
   "metadata": {},
   "outputs": [
    {
     "data": {
      "text/plain": [
       "month\n",
       "1     2055\n",
       "2     2024\n",
       "3     2408\n",
       "4     2675\n",
       "5     2750\n",
       "6     2989\n",
       "7     3128\n",
       "8     3195\n",
       "9     3285\n",
       "10    3449\n",
       "11    3689\n",
       "12    3826\n",
       "Name: month, dtype: int64"
      ]
     },
     "execution_count": 27,
     "metadata": {},
     "output_type": "execute_result"
    }
   ],
   "source": [
    "# Looking at number of loans granted across months\n",
    "loan.groupby('month').month.count()"
   ]
  },
  {
   "cell_type": "code",
   "execution_count": 28,
   "id": "9695213c",
   "metadata": {},
   "outputs": [],
   "source": [
    "#    ********************** Changing the datatype of the columns **********************                      "
   ]
  },
  {
   "cell_type": "code",
   "execution_count": 62,
   "id": "5674ddb4",
   "metadata": {},
   "outputs": [],
   "source": [
    "## Converting Term to integer\n",
    "loan.term = loan.term.astype(int)"
   ]
  },
  {
   "cell_type": "code",
   "execution_count": 64,
   "id": "bb63c32d",
   "metadata": {},
   "outputs": [],
   "source": [
    "loan.dti = loan.dti.astype(int)"
   ]
  },
  {
   "cell_type": "code",
   "execution_count": 30,
   "id": "973eb0e5",
   "metadata": {},
   "outputs": [],
   "source": [
    "## Converting Term to integer\n",
    "\n",
    "loan[\"int_rate\"] =loan[\"int_rate\"].astype(float)"
   ]
  },
  {
   "cell_type": "code",
   "execution_count": 31,
   "id": "f81ced3c",
   "metadata": {
    "scrolled": true
   },
   "outputs": [],
   "source": [
    "columns = ['grade', 'sub_grade', 'home_ownership', 'verification_status', 'loan_status', 'purpose', 'addr_state', 'pub_rec_bankruptcies']\n",
    "loan[columns] = loan[columns].apply(lambda x: x.astype('category'))"
   ]
  },
  {
   "cell_type": "code",
   "execution_count": 32,
   "id": "72b5af18",
   "metadata": {},
   "outputs": [],
   "source": [
    "#    ********************** Export To Excel  **********************      \n",
    "\n",
    "loan.to_excel(\"Loan.xlsx\")\n"
   ]
  },
  {
   "cell_type": "code",
   "execution_count": 33,
   "id": "c593af67",
   "metadata": {},
   "outputs": [],
   "source": [
    "#    ********************** Univariate Analysis & Segment Univariate Analysis **********************                      "
   ]
  },
  {
   "cell_type": "code",
   "execution_count": 34,
   "id": "9cef7bc8",
   "metadata": {},
   "outputs": [
    {
     "data": {
      "text/plain": [
       "Fully Paid     30455\n",
       "Charged Off     5018\n",
       "Name: loan_status, dtype: int64"
      ]
     },
     "execution_count": 34,
     "metadata": {},
     "output_type": "execute_result"
    }
   ],
   "source": [
    "loan[\"loan_status\"].value_counts()\n"
   ]
  },
  {
   "cell_type": "code",
   "execution_count": 35,
   "id": "ece0737c",
   "metadata": {},
   "outputs": [
    {
     "data": {
      "image/png": "[encoded data removed]",
      "text/plain": [
       "<Figure size 432x288 with 1 Axes>"
      ]
     },
     "metadata": {
      "needs_background": "light"
     },
     "output_type": "display_data"
    }
   ],
   "source": [
    "sns.boxplot( y=loan[\"loan_amnt\"] )\n",
    "plt.ylabel('Loan Amount')\n",
    "plt.show()"
   ]
  },
  {
   "cell_type": "code",
   "execution_count": 36,
   "id": "76fe6d90",
   "metadata": {},
   "outputs": [
    {
     "data": {
      "text/plain": [
       "count    35473.000000\n",
       "mean     11120.724918\n",
       "std       7327.854809\n",
       "min        500.000000\n",
       "25%       5500.000000\n",
       "50%      10000.000000\n",
       "75%      15000.000000\n",
       "max      35000.000000\n",
       "Name: loan_amnt, dtype: float64"
      ]
     },
     "execution_count": 36,
     "metadata": {},
     "output_type": "execute_result"
    }
   ],
   "source": [
    "loan[\"loan_amnt\"].describe()"
   ]
  },
  {
   "cell_type": "code",
   "execution_count": 37,
   "id": "ad58a425",
   "metadata": {},
   "outputs": [
    {
     "data": {
      "image/png": "[encoded data removed]",
      "text/plain": [
       "<Figure size 432x288 with 1 Axes>"
      ]
     },
     "metadata": {
      "needs_background": "light"
     },
     "output_type": "display_data"
    }
   ],
   "source": [
    "sns.countplot(x= loan[\"loan_status\"])\n",
    "plt.show() "
   ]
  },
  {
   "cell_type": "code",
   "execution_count": 38,
   "id": "8fbd3032",
   "metadata": {},
   "outputs": [
    {
     "data": {
      "text/plain": [
       "0.14145970174498915"
      ]
     },
     "execution_count": 38,
     "metadata": {},
     "output_type": "execute_result"
    }
   ],
   "source": [
    "## Finding the % of defaulted loans\n",
    "\n",
    "loan[loan.loan_status == 'Charged Off'].shape[0]/(loan[loan.loan_status == 'Charged Off'].shape[0]+loan[loan.loan_status == 'Fully Paid'].shape[0])"
   ]
  },
  {
   "cell_type": "code",
   "execution_count": 39,
   "id": "0c18ec4a",
   "metadata": {
    "scrolled": true
   },
   "outputs": [
    {
     "data": {
      "image/png": "[encoded data removed]",
      "text/plain": [
       "<Figure size 432x288 with 1 Axes>"
      ]
     },
     "metadata": {
      "needs_background": "light"
     },
     "output_type": "display_data"
    }
   ],
   "source": [
    "## Finding which Grade of loan has been disbursed the most \n",
    "sns.countplot(x='grade', data=loan)\n",
    "plt.show()"
   ]
  },
  {
   "cell_type": "code",
   "execution_count": 40,
   "id": "40dd12b8",
   "metadata": {},
   "outputs": [
    {
     "data": {
      "image/png": "[encoded data removed]",
      "text/plain": [
       "<Figure size 720x504 with 1 Axes>"
      ]
     },
     "metadata": {
      "needs_background": "light"
     },
     "output_type": "display_data"
    }
   ],
   "source": [
    "plt.figure(figsize=(10,7))\n",
    "sns.countplot( x=\"term\", hue='loan_status', data=loan)\n",
    "plt.xlabel('Loan Term in Months')\n",
    "plt.title('Loan Term with Loan Status')\n",
    "plt.show()"
   ]
  },
  {
   "cell_type": "code",
   "execution_count": 41,
   "id": "d4f8006a",
   "metadata": {},
   "outputs": [
    {
     "data": {
      "image/png": "[encoded data removed]",
      "text/plain": [
       "<Figure size 432x288 with 1 Axes>"
      ]
     },
     "metadata": {
      "needs_background": "light"
     },
     "output_type": "display_data"
    }
   ],
   "source": [
    "## Finding the distribution of term\n",
    "\n",
    "sns.countplot(x= loan[\"term\"])\n",
    "plt.show()"
   ]
  },
  {
   "cell_type": "code",
   "execution_count": 42,
   "id": "964d069b",
   "metadata": {},
   "outputs": [
    {
     "data": {
      "text/plain": [
       "0.25393961604600684"
      ]
     },
     "execution_count": 42,
     "metadata": {},
     "output_type": "execute_result"
    }
   ],
   "source": [
    "## % of loan with term as 60 months\n",
    "\n",
    "loan[loan.term == 60].shape[0]/(loan[loan.term == 60].shape[0]+loan[loan.term == 36].shape[0])\n"
   ]
  },
  {
   "cell_type": "code",
   "execution_count": 43,
   "id": "fd657cd5",
   "metadata": {},
   "outputs": [
    {
     "data": {
      "image/png": "[encoded data removed]",
      "text/plain": [
       "<Figure size 432x288 with 1 Axes>"
      ]
     },
     "metadata": {
      "needs_background": "light"
     },
     "output_type": "display_data"
    }
   ],
   "source": [
    "## Plotting Interest Rate boxplot\n",
    "\n",
    "sns.boxplot( y=loan[\"int_rate\"] )\n",
    "plt.ylabel('Interest Rate')\n",
    "plt.show()\n"
   ]
  },
  {
   "cell_type": "code",
   "execution_count": 44,
   "id": "6a63a87c",
   "metadata": {},
   "outputs": [
    {
     "data": {
      "image/png": "[encoded data removed]",
      "text/plain": [
       "<Figure size 432x288 with 1 Axes>"
      ]
     },
     "metadata": {
      "needs_background": "light"
     },
     "output_type": "display_data"
    }
   ],
   "source": [
    "## Plotting Interest Rate boxplot split by loan status \n",
    "\n",
    "sns.boxplot(y='int_rate', x='loan_status', data=loan)\n",
    "plt.ylabel('Interest Rate')\n",
    "plt.xlabel('Loan Status')\n",
    "plt.show()"
   ]
  },
  {
   "cell_type": "code",
   "execution_count": 48,
   "id": "a84b90a6",
   "metadata": {},
   "outputs": [
    {
     "data": {
      "image/png": "[encoded data removed]",
      "text/plain": [
       "<Figure size 432x288 with 1 Axes>"
      ]
     },
     "metadata": {
      "needs_background": "light"
     },
     "output_type": "display_data"
    }
   ],
   "source": [
    "## Plotting Grade with Loan status to check if we identify patterns which can leads us in identifying default\n",
    "\n",
    "\n",
    "sns.countplot(x='grade', hue=\"loan_status\", data=loan)\n",
    "plt.show()"
   ]
  },
  {
   "cell_type": "code",
   "execution_count": 49,
   "id": "050b7da7",
   "metadata": {},
   "outputs": [
    {
     "data": {
      "image/png": "[encoded data removed]",
      "text/plain": [
       "<Figure size 1152x216 with 1 Axes>"
      ]
     },
     "metadata": {
      "needs_background": "light"
     },
     "output_type": "display_data"
    }
   ],
   "source": [
    "## Plotting ditribution of loans by sub grade \n",
    "\n",
    "plt.figure(figsize=(16,3))\n",
    "sns.countplot(x='sub_grade', hue=\"loan_status\", data=loan)\n",
    "plt.xticks(rotation=90)\n",
    "plt.show()"
   ]
  },
  {
   "cell_type": "code",
   "execution_count": 50,
   "id": "83383ab5",
   "metadata": {},
   "outputs": [
    {
     "data": {
      "image/png": "[encoded data removed]",
      "text/plain": [
       "<Figure size 432x288 with 1 Axes>"
      ]
     },
     "metadata": {
      "needs_background": "light"
     },
     "output_type": "display_data"
    }
   ],
   "source": [
    "## Plotting to identify loan issuance over the years\n",
    "\n",
    "g = loan.groupby('issue_d')['loan_status'].count()\n",
    "g.plot.line(x_compat=True)\n",
    "plt.title('Loans Granted over the years')\n",
    "plt.xlabel('Issue Period')\n",
    "plt.show()"
   ]
  },
  {
   "cell_type": "code",
   "execution_count": 51,
   "id": "a5f54c45",
   "metadata": {},
   "outputs": [
    {
     "data": {
      "image/png": "[encoded data removed]",
      "text/plain": [
       "<Figure size 1152x216 with 1 Axes>"
      ]
     },
     "metadata": {
      "needs_background": "light"
     },
     "output_type": "display_data"
    }
   ],
   "source": [
    "## Finding the distribution of State\n",
    "plt.figure(figsize=(16,3))\n",
    "sns.countplot(x='addr_state', data=loan)\n",
    "plt.xticks(rotation=90)\n",
    "plt.show()"
   ]
  },
  {
   "cell_type": "code",
   "execution_count": 52,
   "id": "bfbc557a",
   "metadata": {},
   "outputs": [],
   "source": [
    "loan.dti = loan.dti.astype(int)"
   ]
  },
  {
   "cell_type": "code",
   "execution_count": 53,
   "id": "2706d0ab",
   "metadata": {},
   "outputs": [
    {
     "data": {
      "text/plain": [
       "count    35473.000000\n",
       "mean        12.905083\n",
       "std          6.634192\n",
       "min          0.000000\n",
       "25%          8.000000\n",
       "50%         13.000000\n",
       "75%         18.000000\n",
       "max         29.000000\n",
       "Name: dti, dtype: float64"
      ]
     },
     "execution_count": 53,
     "metadata": {},
     "output_type": "execute_result"
    }
   ],
   "source": [
    "loan.dti.describe()"
   ]
  },
  {
   "cell_type": "code",
   "execution_count": 65,
   "id": "3081a5cb",
   "metadata": {
    "scrolled": true
   },
   "outputs": [
    {
     "data": {
      "image/png": "[encoded data removed]",
      "text/plain": [
       "<Figure size 1152x216 with 1 Axes>"
      ]
     },
     "metadata": {
      "needs_background": "light"
     },
     "output_type": "display_data"
    }
   ],
   "source": [
    "## Plotting DTI with Loan status to check if we identify patterns which can leads us in identifying default\n",
    "\n",
    "plt.figure(figsize=(16,3))\n",
    "sns.countplot(x='dti', hue=\"loan_status\", data=loan)\n",
    "plt.xticks(rotation=90)\n",
    "plt.show()"
   ]
  },
  {
   "cell_type": "code",
   "execution_count": 55,
   "id": "9fe8e9e9",
   "metadata": {},
   "outputs": [
    {
     "data": {
      "image/png": "[encoded data removed]",
      "text/plain": [
       "<Figure size 7200x720 with 1 Axes>"
      ]
     },
     "metadata": {},
     "output_type": "display_data"
    }
   ],
   "source": [
    "# Emp_Length distriution in the dataset\n",
    "\n",
    "plt.figure(figsize=(100,10))\n",
    "\n",
    "\n",
    "data = loan[\"emp_length\"].value_counts()\n",
    "\n",
    "data.plot.pie(autopct=\"%.1f%%\");"
   ]
  },
  {
   "cell_type": "code",
   "execution_count": 56,
   "id": "88621c16",
   "metadata": {},
   "outputs": [
    {
     "data": {
      "image/png": "[encoded data removed]",
      "text/plain": [
       "<Figure size 1152x216 with 1 Axes>"
      ]
     },
     "metadata": {
      "needs_background": "light"
     },
     "output_type": "display_data"
    }
   ],
   "source": [
    "## Plotting Emp_Length with Loan status to check if we identify patterns which can leads us in identifying default\n",
    "\n",
    "plt.figure(figsize=(16,3))\n",
    "sns.countplot(x='emp_length', hue=\"loan_status\", data=loan)\n",
    "plt.xticks(rotation=90)\n",
    "plt.show()"
   ]
  },
  {
   "cell_type": "code",
   "execution_count": 57,
   "id": "fc2c35cc",
   "metadata": {},
   "outputs": [
    {
     "data": {
      "text/plain": [
       "loan_status  purpose           \n",
       "Charged Off  car                     150\n",
       "             credit_card             481\n",
       "             debt_consolidation     2541\n",
       "             educational              47\n",
       "             home_improvement        301\n",
       "             house                    54\n",
       "             major_purchase          195\n",
       "             medical                  96\n",
       "             moving                   79\n",
       "             other                   557\n",
       "             renewable_energy         16\n",
       "             small_business          363\n",
       "             vacation                 49\n",
       "             wedding                  89\n",
       "Fully Paid   car                    1247\n",
       "             credit_card            4148\n",
       "             debt_consolidation    14408\n",
       "             educational             234\n",
       "             home_improvement       2319\n",
       "             house                   278\n",
       "             major_purchase         1787\n",
       "             medical                 528\n",
       "             moving                  446\n",
       "             other                  2925\n",
       "             renewable_energy         72\n",
       "             small_business          996\n",
       "             vacation                284\n",
       "             wedding                 783\n",
       "dtype: int64"
      ]
     },
     "execution_count": 57,
     "metadata": {},
     "output_type": "execute_result"
    }
   ],
   "source": [
    "loan.groupby([\"loan_status\",\"purpose\"]).size()"
   ]
  },
  {
   "cell_type": "code",
   "execution_count": 58,
   "id": "02cb0fb8",
   "metadata": {},
   "outputs": [
    {
     "data": {
      "image/png": "[encoded data removed]",
      "text/plain": [
       "<Figure size 720x720 with 1 Axes>"
      ]
     },
     "metadata": {
      "needs_background": "light"
     },
     "output_type": "display_data"
    }
   ],
   "source": [
    "## Plotting Purpose with Loan status to check if we identify patterns which can leads us in identifying default\n",
    "\n",
    "plt.figure(figsize=(10,10))\n",
    "\n",
    "sns.countplot(x='loan_status',hue='purpose',data=loan)\n",
    "plt.show()"
   ]
  },
  {
   "cell_type": "code",
   "execution_count": 59,
   "id": "7fceeb4d",
   "metadata": {},
   "outputs": [
    {
     "data": {
      "text/html": [
       "<div>\n",
       "<style scoped>\n",
       "    .dataframe tbody tr th:only-of-type {\n",
       "        vertical-align: middle;\n",
       "    }\n",
       "\n",
       "    .dataframe tbody tr th {\n",
       "        vertical-align: top;\n",
       "    }\n",
       "\n",
       "    .dataframe thead th {\n",
       "        text-align: right;\n",
       "    }\n",
       "</style>\n",
       "<table border=\"1\" class=\"dataframe\">\n",
       "  <thead>\n",
       "    <tr style=\"text-align: right;\">\n",
       "      <th></th>\n",
       "      <th>loan_amnt</th>\n",
       "      <th>term</th>\n",
       "      <th>int_rate</th>\n",
       "      <th>installment</th>\n",
       "      <th>annual_inc</th>\n",
       "      <th>dti</th>\n",
       "      <th>month</th>\n",
       "      <th>year</th>\n",
       "    </tr>\n",
       "  </thead>\n",
       "  <tbody>\n",
       "    <tr>\n",
       "      <th>loan_amnt</th>\n",
       "      <td>1.000000</td>\n",
       "      <td>0.350228</td>\n",
       "      <td>0.298046</td>\n",
       "      <td>0.930907</td>\n",
       "      <td>0.259300</td>\n",
       "      <td>0.063010</td>\n",
       "      <td>0.051294</td>\n",
       "      <td>0.116807</td>\n",
       "    </tr>\n",
       "    <tr>\n",
       "      <th>term</th>\n",
       "      <td>0.350228</td>\n",
       "      <td>1.000000</td>\n",
       "      <td>0.441013</td>\n",
       "      <td>0.091085</td>\n",
       "      <td>0.046125</td>\n",
       "      <td>0.074079</td>\n",
       "      <td>0.029522</td>\n",
       "      <td>0.230305</td>\n",
       "    </tr>\n",
       "    <tr>\n",
       "      <th>int_rate</th>\n",
       "      <td>0.298046</td>\n",
       "      <td>0.441013</td>\n",
       "      <td>1.000000</td>\n",
       "      <td>0.274556</td>\n",
       "      <td>0.046519</td>\n",
       "      <td>0.108828</td>\n",
       "      <td>0.023300</td>\n",
       "      <td>0.025948</td>\n",
       "    </tr>\n",
       "    <tr>\n",
       "      <th>installment</th>\n",
       "      <td>0.930907</td>\n",
       "      <td>0.091085</td>\n",
       "      <td>0.274556</td>\n",
       "      <td>1.000000</td>\n",
       "      <td>0.256778</td>\n",
       "      <td>0.053979</td>\n",
       "      <td>0.029566</td>\n",
       "      <td>0.062745</td>\n",
       "    </tr>\n",
       "    <tr>\n",
       "      <th>annual_inc</th>\n",
       "      <td>0.259300</td>\n",
       "      <td>0.046125</td>\n",
       "      <td>0.046519</td>\n",
       "      <td>0.256778</td>\n",
       "      <td>1.000000</td>\n",
       "      <td>-0.120250</td>\n",
       "      <td>0.006805</td>\n",
       "      <td>0.014686</td>\n",
       "    </tr>\n",
       "    <tr>\n",
       "      <th>dti</th>\n",
       "      <td>0.063010</td>\n",
       "      <td>0.074079</td>\n",
       "      <td>0.108828</td>\n",
       "      <td>0.053979</td>\n",
       "      <td>-0.120250</td>\n",
       "      <td>1.000000</td>\n",
       "      <td>0.009480</td>\n",
       "      <td>0.079460</td>\n",
       "    </tr>\n",
       "    <tr>\n",
       "      <th>month</th>\n",
       "      <td>0.051294</td>\n",
       "      <td>0.029522</td>\n",
       "      <td>0.023300</td>\n",
       "      <td>0.029566</td>\n",
       "      <td>0.006805</td>\n",
       "      <td>0.009480</td>\n",
       "      <td>1.000000</td>\n",
       "      <td>-0.064212</td>\n",
       "    </tr>\n",
       "    <tr>\n",
       "      <th>year</th>\n",
       "      <td>0.116807</td>\n",
       "      <td>0.230305</td>\n",
       "      <td>0.025948</td>\n",
       "      <td>0.062745</td>\n",
       "      <td>0.014686</td>\n",
       "      <td>0.079460</td>\n",
       "      <td>-0.064212</td>\n",
       "      <td>1.000000</td>\n",
       "    </tr>\n",
       "  </tbody>\n",
       "</table>\n",
       "</div>"
      ],
      "text/plain": [
       "             loan_amnt      term  int_rate  installment  annual_inc       dti  \\\n",
       "loan_amnt     1.000000  0.350228  0.298046     0.930907    0.259300  0.063010   \n",
       "term          0.350228  1.000000  0.441013     0.091085    0.046125  0.074079   \n",
       "int_rate      0.298046  0.441013  1.000000     0.274556    0.046519  0.108828   \n",
       "installment   0.930907  0.091085  0.274556     1.000000    0.256778  0.053979   \n",
       "annual_inc    0.259300  0.046125  0.046519     0.256778    1.000000 -0.120250   \n",
       "dti           0.063010  0.074079  0.108828     0.053979   -0.120250  1.000000   \n",
       "month         0.051294  0.029522  0.023300     0.029566    0.006805  0.009480   \n",
       "year          0.116807  0.230305  0.025948     0.062745    0.014686  0.079460   \n",
       "\n",
       "                month      year  \n",
       "loan_amnt    0.051294  0.116807  \n",
       "term         0.029522  0.230305  \n",
       "int_rate     0.023300  0.025948  \n",
       "installment  0.029566  0.062745  \n",
       "annual_inc   0.006805  0.014686  \n",
       "dti          0.009480  0.079460  \n",
       "month        1.000000 -0.064212  \n",
       "year        -0.064212  1.000000  "
      ]
     },
     "execution_count": 59,
     "metadata": {},
     "output_type": "execute_result"
    }
   ],
   "source": [
    "## Finding the correlation matrix and identifying if there are variables showing high degree of correlation which we have not explored till now \n",
    "\n",
    "corr = loan.corr(method ='pearson')\n",
    "corr"
   ]
  },
  {
   "cell_type": "code",
   "execution_count": 60,
   "id": "d9de99d8",
   "metadata": {},
   "outputs": [
    {
     "data": {
      "image/png": "[encoded data removed]",
      "text/plain": [
       "<Figure size 1800x1080 with 2 Axes>"
      ]
     },
     "metadata": {
      "needs_background": "light"
     },
     "output_type": "display_data"
    }
   ],
   "source": [
    "plt.figure(figsize = (25,15))\n",
    "sns.heatmap(corr, annot = True, linewidths=.5, cmap = \"YlGnBu\")\n",
    "plt.show()"
   ]
  },
  {
   "cell_type": "code",
   "execution_count": 45,
   "id": "5e03e6e9",
   "metadata": {},
   "outputs": [],
   "source": [
    "#    ********************** Bivariate Analysis **********************       "
   ]
  },
  {
   "cell_type": "code",
   "execution_count": 46,
   "id": "1f42c4ee",
   "metadata": {},
   "outputs": [
    {
     "data": {
      "image/png": "[encoded data removed]",
      "text/plain": [
       "<Figure size 432x288 with 1 Axes>"
      ]
     },
     "metadata": {
      "needs_background": "light"
     },
     "output_type": "display_data"
    }
   ],
   "source": [
    "## Plotting Interest Rate box plot split by Grade \n",
    "\n",
    "sns.boxplot(y='int_rate', x='grade', data=loan)\n",
    "plt.ylabel('Interest Rate')\n",
    "plt.xlabel('Grade')\n",
    "plt.show()"
   ]
  },
  {
   "cell_type": "code",
   "execution_count": 69,
   "id": "2b5ea7e5",
   "metadata": {},
   "outputs": [
    {
     "data": {
      "image/png": "[encoded data removed]",
      "text/plain": [
       "<Figure size 1152x216 with 1 Axes>"
      ]
     },
     "metadata": {
      "needs_background": "light"
     },
     "output_type": "display_data"
    }
   ],
   "source": [
    "## Plotting Interest Rate box plot split by DTI \n",
    "plt.figure(figsize=(16,3))\n",
    "sns.boxplot(y='int_rate', x='dti', data=loan)\n",
    "plt.ylabel('Interest Rate')\n",
    "plt.xlabel('DTI')\n",
    "plt.show()"
   ]
  },
  {
   "cell_type": "code",
   "execution_count": 71,
   "id": "ee53c8d4",
   "metadata": {},
   "outputs": [
    {
     "data": {
      "image/png": "[encoded data removed]",
      "text/plain": [
       "<Figure size 432x288 with 1 Axes>"
      ]
     },
     "metadata": {
      "needs_background": "light"
     },
     "output_type": "display_data"
    }
   ],
   "source": [
    "## Plotting Interest Rate Loan Amount split by Grade \n",
    "\n",
    "sns.boxplot(y='int_rate', x='term', data=loan)\n",
    "plt.ylabel('Interest Rate')\n",
    "plt.xlabel('term')\n",
    "plt.show()"
   ]
  }
 ],
 "metadata": {
  "kernelspec": {
   "display_name": "Python 3",
   "language": "python",
   "name": "python3"
  },
  "language_info": {
   "codemirror_mode": {
    "name": "ipython",
    "version": 3
   },
   "file_extension": ".py",
   "mimetype": "text/x-python",
   "name": "python",
   "nbconvert_exporter": "python",
   "pygments_lexer": "ipython3",
   "version": "3.8.8"
  }
 },
 "nbformat": 4,
 "nbformat_minor": 5
}
